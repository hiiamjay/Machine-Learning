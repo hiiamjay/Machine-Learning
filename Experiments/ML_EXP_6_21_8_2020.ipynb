{
  "nbformat": 4,
  "nbformat_minor": 0,
  "metadata": {
    "colab": {
      "name": "ML EXP-6 21/8/2020.ipynb",
      "provenance": [],
      "authorship_tag": "ABX9TyMMVDj84g9afXUWarccBVnT",
      "include_colab_link": true
    },
    "kernelspec": {
      "name": "python3",
      "display_name": "Python 3"
    }
  },
  "cells": [
    {
      "cell_type": "markdown",
      "metadata": {
        "id": "view-in-github",
        "colab_type": "text"
      },
      "source": [
        "<a href=\"https://colab.research.google.com/github/hiiamjay/Machine-Learning/blob/master/Experiments/ML_EXP_6_21_8_2020.ipynb\" target=\"_parent\"><img src=\"https://colab.research.google.com/assets/colab-badge.svg\" alt=\"Open In Colab\"/></a>"
      ]
    },
    {
      "cell_type": "code",
      "metadata": {
        "id": "byR_W15gXwkv",
        "colab_type": "code",
        "colab": {
          "base_uri": "https://localhost:8080/",
          "height": 71
        },
        "outputId": "0f169c17-be07-4713-c785-98dc3f3f2fa1"
      },
      "source": [
        "import numpy as np\n",
        "import pandas as pd\n",
        "\n",
        "import matplotlib.pyplot as plt\n",
        "import seaborn as sns\n",
        "\n",
        "from sklearn.model_selection import train_test_split, cross_val_score\n",
        "from sklearn.preprocessing import StandardScaler\n",
        "\n",
        "from sklearn import linear_model\n",
        "from sklearn.model_selection import GridSearchCV, RandomizedSearchCV\n",
        "\n",
        "import warnings\n",
        "warnings.filterwarnings('ignore')"
      ],
      "execution_count": 1,
      "outputs": [
        {
          "output_type": "stream",
          "text": [
            "/usr/local/lib/python3.6/dist-packages/statsmodels/tools/_testing.py:19: FutureWarning: pandas.util.testing is deprecated. Use the functions in the public API at pandas.testing instead.\n",
            "  import pandas.util.testing as tm\n"
          ],
          "name": "stderr"
        }
      ]
    },
    {
      "cell_type": "code",
      "metadata": {
        "id": "4EITPvmDYTrp",
        "colab_type": "code",
        "colab": {
          "base_uri": "https://localhost:8080/",
          "height": 578
        },
        "outputId": "44eebd86-33d9-460d-a231-fb10583703b0"
      },
      "source": [
        "!wget -O 2011gcn.csv https://raw.githubusercontent.com/pranavn91/blockchain/master/2011gcn.csv\n",
        "!wget -O tx2011partvertices_new.csv https://raw.githubusercontent.com/pranavn91/blockchain/master/tx2011partvertices_new.csv\n",
        "!wget -O tx2011partvertices.csv https://raw.githubusercontent.com/pranavn91/blockchain/master/tx2011partvertices.csv"
      ],
      "execution_count": 2,
      "outputs": [
        {
          "output_type": "stream",
          "text": [
            "--2020-08-30 17:19:30--  https://raw.githubusercontent.com/pranavn91/blockchain/master/2011gcn.csv\n",
            "Resolving raw.githubusercontent.com (raw.githubusercontent.com)... 151.101.0.133, 151.101.64.133, 151.101.128.133, ...\n",
            "Connecting to raw.githubusercontent.com (raw.githubusercontent.com)|151.101.0.133|:443... connected.\n",
            "HTTP request sent, awaiting response... 200 OK\n",
            "Length: 12563086 (12M) [text/plain]\n",
            "Saving to: ‘2011gcn.csv’\n",
            "\n",
            "2011gcn.csv         100%[===================>]  11.98M  22.3MB/s    in 0.5s    \n",
            "\n",
            "2020-08-30 17:19:34 (22.3 MB/s) - ‘2011gcn.csv’ saved [12563086/12563086]\n",
            "\n",
            "--2020-08-30 17:19:34--  https://raw.githubusercontent.com/pranavn91/blockchain/master/tx2011partvertices_new.csv\n",
            "Resolving raw.githubusercontent.com (raw.githubusercontent.com)... 151.101.0.133, 151.101.64.133, 151.101.128.133, ...\n",
            "Connecting to raw.githubusercontent.com (raw.githubusercontent.com)|151.101.0.133|:443... connected.\n",
            "HTTP request sent, awaiting response... 200 OK\n",
            "Length: 12501458 (12M) [text/plain]\n",
            "Saving to: ‘tx2011partvertices_new.csv’\n",
            "\n",
            "tx2011partvertices_ 100%[===================>]  11.92M  26.4MB/s    in 0.5s    \n",
            "\n",
            "2020-08-30 17:19:37 (26.4 MB/s) - ‘tx2011partvertices_new.csv’ saved [12501458/12501458]\n",
            "\n",
            "--2020-08-30 17:19:37--  https://raw.githubusercontent.com/pranavn91/blockchain/master/tx2011partvertices.csv\n",
            "Resolving raw.githubusercontent.com (raw.githubusercontent.com)... 151.101.0.133, 151.101.64.133, 151.101.128.133, ...\n",
            "Connecting to raw.githubusercontent.com (raw.githubusercontent.com)|151.101.0.133|:443... connected.\n",
            "HTTP request sent, awaiting response... 200 OK\n",
            "Length: 1934257 (1.8M) [text/plain]\n",
            "Saving to: ‘tx2011partvertices.csv’\n",
            "\n",
            "tx2011partvertices. 100%[===================>]   1.84M  --.-KB/s    in 0.1s    \n",
            "\n",
            "2020-08-30 17:19:39 (12.6 MB/s) - ‘tx2011partvertices.csv’ saved [1934257/1934257]\n",
            "\n"
          ],
          "name": "stdout"
        }
      ]
    },
    {
      "cell_type": "code",
      "metadata": {
        "id": "KgMDtMVLYZFs",
        "colab_type": "code",
        "colab": {}
      },
      "source": [
        "data1 = pd.read_csv('2011gcn.csv')\n",
        "data2 = pd.read_csv('tx2011partvertices_new.csv')\n",
        "data3 = pd.read_csv('tx2011partvertices.csv')"
      ],
      "execution_count": 3,
      "outputs": []
    },
    {
      "cell_type": "code",
      "metadata": {
        "id": "LR5voNzwYnQW",
        "colab_type": "code",
        "colab": {
          "base_uri": "https://localhost:8080/",
          "height": 68
        },
        "outputId": "88fba6ea-6574-4587-f119-3ca2386ace29"
      },
      "source": [
        "print('Data 1 Shape: ', data1.shape)\n",
        "print('Data 2 Shape: ', data2.shape)\n",
        "print('Data 3 Shape: ', data3.shape)"
      ],
      "execution_count": 4,
      "outputs": [
        {
          "output_type": "stream",
          "text": [
            "Data 1 Shape:  (96498, 17)\n",
            "Data 2 Shape:  (96498, 20)\n",
            "Data 3 Shape:  (96498, 2)\n"
          ],
          "name": "stdout"
        }
      ]
    },
    {
      "cell_type": "code",
      "metadata": {
        "id": "b54tU9NwYvaj",
        "colab_type": "code",
        "colab": {
          "base_uri": "https://localhost:8080/",
          "height": 204
        },
        "outputId": "c60021ed-1401-4f7b-8a1f-95fa4f5fe09a"
      },
      "source": [
        "data1.head()"
      ],
      "execution_count": 6,
      "outputs": [
        {
          "output_type": "execute_result",
          "data": {
            "text/html": [
              "<div>\n",
              "<style scoped>\n",
              "    .dataframe tbody tr th:only-of-type {\n",
              "        vertical-align: middle;\n",
              "    }\n",
              "\n",
              "    .dataframe tbody tr th {\n",
              "        vertical-align: top;\n",
              "    }\n",
              "\n",
              "    .dataframe thead th {\n",
              "        text-align: right;\n",
              "    }\n",
              "</style>\n",
              "<table border=\"1\" class=\"dataframe\">\n",
              "  <thead>\n",
              "    <tr style=\"text-align: right;\">\n",
              "      <th></th>\n",
              "      <th>Unnamed: 0</th>\n",
              "      <th>0</th>\n",
              "      <th>1</th>\n",
              "      <th>2</th>\n",
              "      <th>3</th>\n",
              "      <th>4</th>\n",
              "      <th>5</th>\n",
              "      <th>6</th>\n",
              "      <th>7</th>\n",
              "      <th>8</th>\n",
              "      <th>9</th>\n",
              "      <th>10</th>\n",
              "      <th>11</th>\n",
              "      <th>12</th>\n",
              "      <th>13</th>\n",
              "      <th>14</th>\n",
              "      <th>15</th>\n",
              "    </tr>\n",
              "  </thead>\n",
              "  <tbody>\n",
              "    <tr>\n",
              "      <th>0</th>\n",
              "      <td>0</td>\n",
              "      <td>0.0</td>\n",
              "      <td>4.811244e+07</td>\n",
              "      <td>0.0</td>\n",
              "      <td>0.0</td>\n",
              "      <td>5.298934e+07</td>\n",
              "      <td>0.0</td>\n",
              "      <td>5.215435e+07</td>\n",
              "      <td>0.0</td>\n",
              "      <td>0.0</td>\n",
              "      <td>4.293262e+05</td>\n",
              "      <td>3.994267e+07</td>\n",
              "      <td>6.251989e+07</td>\n",
              "      <td>0.0</td>\n",
              "      <td>0.0</td>\n",
              "      <td>2.670458e+07</td>\n",
              "      <td>8.313858e+07</td>\n",
              "    </tr>\n",
              "    <tr>\n",
              "      <th>1</th>\n",
              "      <td>1</td>\n",
              "      <td>0.0</td>\n",
              "      <td>3.477977e+05</td>\n",
              "      <td>0.0</td>\n",
              "      <td>0.0</td>\n",
              "      <td>3.777575e+05</td>\n",
              "      <td>0.0</td>\n",
              "      <td>3.757520e+05</td>\n",
              "      <td>0.0</td>\n",
              "      <td>0.0</td>\n",
              "      <td>6.889133e+03</td>\n",
              "      <td>3.001618e+05</td>\n",
              "      <td>4.527358e+05</td>\n",
              "      <td>0.0</td>\n",
              "      <td>0.0</td>\n",
              "      <td>1.915057e+05</td>\n",
              "      <td>6.009039e+05</td>\n",
              "    </tr>\n",
              "    <tr>\n",
              "      <th>2</th>\n",
              "      <td>2</td>\n",
              "      <td>0.0</td>\n",
              "      <td>6.455196e+07</td>\n",
              "      <td>0.0</td>\n",
              "      <td>0.0</td>\n",
              "      <td>7.110790e+07</td>\n",
              "      <td>0.0</td>\n",
              "      <td>6.997804e+07</td>\n",
              "      <td>0.0</td>\n",
              "      <td>0.0</td>\n",
              "      <td>5.670157e+05</td>\n",
              "      <td>5.356332e+07</td>\n",
              "      <td>8.388026e+07</td>\n",
              "      <td>0.0</td>\n",
              "      <td>0.0</td>\n",
              "      <td>3.583296e+07</td>\n",
              "      <td>1.115463e+08</td>\n",
              "    </tr>\n",
              "    <tr>\n",
              "      <th>3</th>\n",
              "      <td>3</td>\n",
              "      <td>0.0</td>\n",
              "      <td>2.009876e+08</td>\n",
              "      <td>0.0</td>\n",
              "      <td>0.0</td>\n",
              "      <td>2.214679e+08</td>\n",
              "      <td>0.0</td>\n",
              "      <td>2.174101e+08</td>\n",
              "      <td>0.0</td>\n",
              "      <td>0.0</td>\n",
              "      <td>1.342720e+06</td>\n",
              "      <td>1.665389e+08</td>\n",
              "      <td>2.614420e+08</td>\n",
              "      <td>0.0</td>\n",
              "      <td>0.0</td>\n",
              "      <td>1.116514e+08</td>\n",
              "      <td>3.472892e+08</td>\n",
              "    </tr>\n",
              "    <tr>\n",
              "      <th>4</th>\n",
              "      <td>4</td>\n",
              "      <td>0.0</td>\n",
              "      <td>2.384675e+05</td>\n",
              "      <td>0.0</td>\n",
              "      <td>0.0</td>\n",
              "      <td>2.597246e+05</td>\n",
              "      <td>0.0</td>\n",
              "      <td>2.577884e+05</td>\n",
              "      <td>0.0</td>\n",
              "      <td>0.0</td>\n",
              "      <td>4.202993e+03</td>\n",
              "      <td>2.042845e+05</td>\n",
              "      <td>3.103489e+05</td>\n",
              "      <td>0.0</td>\n",
              "      <td>0.0</td>\n",
              "      <td>1.315073e+05</td>\n",
              "      <td>4.120424e+05</td>\n",
              "    </tr>\n",
              "  </tbody>\n",
              "</table>\n",
              "</div>"
            ],
            "text/plain": [
              "   Unnamed: 0    0             1    2  ...   12   13            14            15\n",
              "0           0  0.0  4.811244e+07  0.0  ...  0.0  0.0  2.670458e+07  8.313858e+07\n",
              "1           1  0.0  3.477977e+05  0.0  ...  0.0  0.0  1.915057e+05  6.009039e+05\n",
              "2           2  0.0  6.455196e+07  0.0  ...  0.0  0.0  3.583296e+07  1.115463e+08\n",
              "3           3  0.0  2.009876e+08  0.0  ...  0.0  0.0  1.116514e+08  3.472892e+08\n",
              "4           4  0.0  2.384675e+05  0.0  ...  0.0  0.0  1.315073e+05  4.120424e+05\n",
              "\n",
              "[5 rows x 17 columns]"
            ]
          },
          "metadata": {
            "tags": []
          },
          "execution_count": 6
        }
      ]
    },
    {
      "cell_type": "code",
      "metadata": {
        "id": "QXt8EsWAY7Ow",
        "colab_type": "code",
        "colab": {
          "base_uri": "https://localhost:8080/",
          "height": 204
        },
        "outputId": "ddb9f5f4-2556-414f-db13-808833d7a6c9"
      },
      "source": [
        "data1.rename(columns={'Unnamed: 0':'index'}, inplace=True)\n",
        "data1['index'] = data1['index'] + 1\n",
        "data1.head()"
      ],
      "execution_count": 7,
      "outputs": [
        {
          "output_type": "execute_result",
          "data": {
            "text/html": [
              "<div>\n",
              "<style scoped>\n",
              "    .dataframe tbody tr th:only-of-type {\n",
              "        vertical-align: middle;\n",
              "    }\n",
              "\n",
              "    .dataframe tbody tr th {\n",
              "        vertical-align: top;\n",
              "    }\n",
              "\n",
              "    .dataframe thead th {\n",
              "        text-align: right;\n",
              "    }\n",
              "</style>\n",
              "<table border=\"1\" class=\"dataframe\">\n",
              "  <thead>\n",
              "    <tr style=\"text-align: right;\">\n",
              "      <th></th>\n",
              "      <th>index</th>\n",
              "      <th>0</th>\n",
              "      <th>1</th>\n",
              "      <th>2</th>\n",
              "      <th>3</th>\n",
              "      <th>4</th>\n",
              "      <th>5</th>\n",
              "      <th>6</th>\n",
              "      <th>7</th>\n",
              "      <th>8</th>\n",
              "      <th>9</th>\n",
              "      <th>10</th>\n",
              "      <th>11</th>\n",
              "      <th>12</th>\n",
              "      <th>13</th>\n",
              "      <th>14</th>\n",
              "      <th>15</th>\n",
              "    </tr>\n",
              "  </thead>\n",
              "  <tbody>\n",
              "    <tr>\n",
              "      <th>0</th>\n",
              "      <td>1</td>\n",
              "      <td>0.0</td>\n",
              "      <td>4.811244e+07</td>\n",
              "      <td>0.0</td>\n",
              "      <td>0.0</td>\n",
              "      <td>5.298934e+07</td>\n",
              "      <td>0.0</td>\n",
              "      <td>5.215435e+07</td>\n",
              "      <td>0.0</td>\n",
              "      <td>0.0</td>\n",
              "      <td>4.293262e+05</td>\n",
              "      <td>3.994267e+07</td>\n",
              "      <td>6.251989e+07</td>\n",
              "      <td>0.0</td>\n",
              "      <td>0.0</td>\n",
              "      <td>2.670458e+07</td>\n",
              "      <td>8.313858e+07</td>\n",
              "    </tr>\n",
              "    <tr>\n",
              "      <th>1</th>\n",
              "      <td>2</td>\n",
              "      <td>0.0</td>\n",
              "      <td>3.477977e+05</td>\n",
              "      <td>0.0</td>\n",
              "      <td>0.0</td>\n",
              "      <td>3.777575e+05</td>\n",
              "      <td>0.0</td>\n",
              "      <td>3.757520e+05</td>\n",
              "      <td>0.0</td>\n",
              "      <td>0.0</td>\n",
              "      <td>6.889133e+03</td>\n",
              "      <td>3.001618e+05</td>\n",
              "      <td>4.527358e+05</td>\n",
              "      <td>0.0</td>\n",
              "      <td>0.0</td>\n",
              "      <td>1.915057e+05</td>\n",
              "      <td>6.009039e+05</td>\n",
              "    </tr>\n",
              "    <tr>\n",
              "      <th>2</th>\n",
              "      <td>3</td>\n",
              "      <td>0.0</td>\n",
              "      <td>6.455196e+07</td>\n",
              "      <td>0.0</td>\n",
              "      <td>0.0</td>\n",
              "      <td>7.110790e+07</td>\n",
              "      <td>0.0</td>\n",
              "      <td>6.997804e+07</td>\n",
              "      <td>0.0</td>\n",
              "      <td>0.0</td>\n",
              "      <td>5.670157e+05</td>\n",
              "      <td>5.356332e+07</td>\n",
              "      <td>8.388026e+07</td>\n",
              "      <td>0.0</td>\n",
              "      <td>0.0</td>\n",
              "      <td>3.583296e+07</td>\n",
              "      <td>1.115463e+08</td>\n",
              "    </tr>\n",
              "    <tr>\n",
              "      <th>3</th>\n",
              "      <td>4</td>\n",
              "      <td>0.0</td>\n",
              "      <td>2.009876e+08</td>\n",
              "      <td>0.0</td>\n",
              "      <td>0.0</td>\n",
              "      <td>2.214679e+08</td>\n",
              "      <td>0.0</td>\n",
              "      <td>2.174101e+08</td>\n",
              "      <td>0.0</td>\n",
              "      <td>0.0</td>\n",
              "      <td>1.342720e+06</td>\n",
              "      <td>1.665389e+08</td>\n",
              "      <td>2.614420e+08</td>\n",
              "      <td>0.0</td>\n",
              "      <td>0.0</td>\n",
              "      <td>1.116514e+08</td>\n",
              "      <td>3.472892e+08</td>\n",
              "    </tr>\n",
              "    <tr>\n",
              "      <th>4</th>\n",
              "      <td>5</td>\n",
              "      <td>0.0</td>\n",
              "      <td>2.384675e+05</td>\n",
              "      <td>0.0</td>\n",
              "      <td>0.0</td>\n",
              "      <td>2.597246e+05</td>\n",
              "      <td>0.0</td>\n",
              "      <td>2.577884e+05</td>\n",
              "      <td>0.0</td>\n",
              "      <td>0.0</td>\n",
              "      <td>4.202993e+03</td>\n",
              "      <td>2.042845e+05</td>\n",
              "      <td>3.103489e+05</td>\n",
              "      <td>0.0</td>\n",
              "      <td>0.0</td>\n",
              "      <td>1.315073e+05</td>\n",
              "      <td>4.120424e+05</td>\n",
              "    </tr>\n",
              "  </tbody>\n",
              "</table>\n",
              "</div>"
            ],
            "text/plain": [
              "   index    0             1    2  ...   12   13            14            15\n",
              "0      1  0.0  4.811244e+07  0.0  ...  0.0  0.0  2.670458e+07  8.313858e+07\n",
              "1      2  0.0  3.477977e+05  0.0  ...  0.0  0.0  1.915057e+05  6.009039e+05\n",
              "2      3  0.0  6.455196e+07  0.0  ...  0.0  0.0  3.583296e+07  1.115463e+08\n",
              "3      4  0.0  2.009876e+08  0.0  ...  0.0  0.0  1.116514e+08  3.472892e+08\n",
              "4      5  0.0  2.384675e+05  0.0  ...  0.0  0.0  1.315073e+05  4.120424e+05\n",
              "\n",
              "[5 rows x 17 columns]"
            ]
          },
          "metadata": {
            "tags": []
          },
          "execution_count": 7
        }
      ]
    },
    {
      "cell_type": "code",
      "metadata": {
        "id": "3eOfY7UkZPWA",
        "colab_type": "code",
        "colab": {
          "base_uri": "https://localhost:8080/",
          "height": 224
        },
        "outputId": "7e806769-8e88-48c1-99e8-95727262c14c"
      },
      "source": [
        "data2.rename(columns={'Unnamed: 0':'index'}, inplace=True)\n",
        "data2.head()"
      ],
      "execution_count": 8,
      "outputs": [
        {
          "output_type": "execute_result",
          "data": {
            "text/html": [
              "<div>\n",
              "<style scoped>\n",
              "    .dataframe tbody tr th:only-of-type {\n",
              "        vertical-align: middle;\n",
              "    }\n",
              "\n",
              "    .dataframe tbody tr th {\n",
              "        vertical-align: top;\n",
              "    }\n",
              "\n",
              "    .dataframe thead th {\n",
              "        text-align: right;\n",
              "    }\n",
              "</style>\n",
              "<table border=\"1\" class=\"dataframe\">\n",
              "  <thead>\n",
              "    <tr style=\"text-align: right;\">\n",
              "      <th></th>\n",
              "      <th>index</th>\n",
              "      <th>txsize</th>\n",
              "      <th>txvirtualsize</th>\n",
              "      <th>txinputs_count</th>\n",
              "      <th>txoutputs_count</th>\n",
              "      <th>txinput_val</th>\n",
              "      <th>txoutput_val</th>\n",
              "      <th>txfee</th>\n",
              "      <th>Min_received</th>\n",
              "      <th>Max_received</th>\n",
              "      <th>Avg_received</th>\n",
              "      <th>Total_received</th>\n",
              "      <th>Stdev_received</th>\n",
              "      <th>Var_received</th>\n",
              "      <th>Min_sent</th>\n",
              "      <th>Max_sent</th>\n",
              "      <th>Avg_sent</th>\n",
              "      <th>Total_sent</th>\n",
              "      <th>Stdev_sent</th>\n",
              "      <th>Var_sent</th>\n",
              "    </tr>\n",
              "  </thead>\n",
              "  <tbody>\n",
              "    <tr>\n",
              "      <th>0</th>\n",
              "      <td>1</td>\n",
              "      <td>7369</td>\n",
              "      <td>7369</td>\n",
              "      <td>5</td>\n",
              "      <td>190</td>\n",
              "      <td>215000000.0</td>\n",
              "      <td>214600000.0</td>\n",
              "      <td>400000</td>\n",
              "      <td>0.0005</td>\n",
              "      <td>1.0000</td>\n",
              "      <td>0.011295</td>\n",
              "      <td>2.1460</td>\n",
              "      <td>0.081163</td>\n",
              "      <td>0.006587</td>\n",
              "      <td>0.0005</td>\n",
              "      <td>1.6700</td>\n",
              "      <td>0.4300</td>\n",
              "      <td>2.1500</td>\n",
              "      <td>0.703445</td>\n",
              "      <td>0.494835</td>\n",
              "    </tr>\n",
              "    <tr>\n",
              "      <th>1</th>\n",
              "      <td>2</td>\n",
              "      <td>293</td>\n",
              "      <td>293</td>\n",
              "      <td>1</td>\n",
              "      <td>3</td>\n",
              "      <td>4400000.0</td>\n",
              "      <td>4350000.0</td>\n",
              "      <td>50000</td>\n",
              "      <td>0.0010</td>\n",
              "      <td>0.0415</td>\n",
              "      <td>0.014500</td>\n",
              "      <td>0.0435</td>\n",
              "      <td>0.023383</td>\n",
              "      <td>0.000547</td>\n",
              "      <td>0.0440</td>\n",
              "      <td>0.0440</td>\n",
              "      <td>0.0440</td>\n",
              "      <td>0.0440</td>\n",
              "      <td>0.000000</td>\n",
              "      <td>0.000000</td>\n",
              "    </tr>\n",
              "    <tr>\n",
              "      <th>2</th>\n",
              "      <td>3</td>\n",
              "      <td>11139</td>\n",
              "      <td>11139</td>\n",
              "      <td>1</td>\n",
              "      <td>322</td>\n",
              "      <td>125000000.0</td>\n",
              "      <td>124400000.0</td>\n",
              "      <td>600000</td>\n",
              "      <td>0.0010</td>\n",
              "      <td>0.4460</td>\n",
              "      <td>0.003863</td>\n",
              "      <td>1.2440</td>\n",
              "      <td>0.024941</td>\n",
              "      <td>0.000622</td>\n",
              "      <td>1.2500</td>\n",
              "      <td>1.2500</td>\n",
              "      <td>1.2500</td>\n",
              "      <td>1.2500</td>\n",
              "      <td>0.000000</td>\n",
              "      <td>0.000000</td>\n",
              "    </tr>\n",
              "    <tr>\n",
              "      <th>3</th>\n",
              "      <td>4</td>\n",
              "      <td>495</td>\n",
              "      <td>495</td>\n",
              "      <td>1</td>\n",
              "      <td>9</td>\n",
              "      <td>27450000.0</td>\n",
              "      <td>27400000.0</td>\n",
              "      <td>50000</td>\n",
              "      <td>0.0010</td>\n",
              "      <td>0.2660</td>\n",
              "      <td>0.030444</td>\n",
              "      <td>0.2740</td>\n",
              "      <td>0.088333</td>\n",
              "      <td>0.007803</td>\n",
              "      <td>0.2745</td>\n",
              "      <td>0.2745</td>\n",
              "      <td>0.2745</td>\n",
              "      <td>0.2745</td>\n",
              "      <td>0.000000</td>\n",
              "      <td>0.000000</td>\n",
              "    </tr>\n",
              "    <tr>\n",
              "      <th>4</th>\n",
              "      <td>5</td>\n",
              "      <td>462</td>\n",
              "      <td>462</td>\n",
              "      <td>1</td>\n",
              "      <td>8</td>\n",
              "      <td>3000000.0</td>\n",
              "      <td>2950000.0</td>\n",
              "      <td>50000</td>\n",
              "      <td>0.0010</td>\n",
              "      <td>0.0225</td>\n",
              "      <td>0.003687</td>\n",
              "      <td>0.0295</td>\n",
              "      <td>0.007601</td>\n",
              "      <td>0.000058</td>\n",
              "      <td>0.0300</td>\n",
              "      <td>0.0300</td>\n",
              "      <td>0.0300</td>\n",
              "      <td>0.0300</td>\n",
              "      <td>0.000000</td>\n",
              "      <td>0.000000</td>\n",
              "    </tr>\n",
              "  </tbody>\n",
              "</table>\n",
              "</div>"
            ],
            "text/plain": [
              "   index  txsize  txvirtualsize  ...  Total_sent  Stdev_sent  Var_sent\n",
              "0      1    7369           7369  ...      2.1500    0.703445  0.494835\n",
              "1      2     293            293  ...      0.0440    0.000000  0.000000\n",
              "2      3   11139          11139  ...      1.2500    0.000000  0.000000\n",
              "3      4     495            495  ...      0.2745    0.000000  0.000000\n",
              "4      5     462            462  ...      0.0300    0.000000  0.000000\n",
              "\n",
              "[5 rows x 20 columns]"
            ]
          },
          "metadata": {
            "tags": []
          },
          "execution_count": 8
        }
      ]
    },
    {
      "cell_type": "code",
      "metadata": {
        "id": "vpkYxjn2ZVDk",
        "colab_type": "code",
        "colab": {
          "base_uri": "https://localhost:8080/",
          "height": 204
        },
        "outputId": "0ed2e86a-d775-4d57-f5b7-1bebe87c935d"
      },
      "source": [
        "data3.rename(columns={'Unnamed: 0':'index'}, inplace=True)\n",
        "data3.head()"
      ],
      "execution_count": 10,
      "outputs": [
        {
          "output_type": "execute_result",
          "data": {
            "text/html": [
              "<div>\n",
              "<style scoped>\n",
              "    .dataframe tbody tr th:only-of-type {\n",
              "        vertical-align: middle;\n",
              "    }\n",
              "\n",
              "    .dataframe tbody tr th {\n",
              "        vertical-align: top;\n",
              "    }\n",
              "\n",
              "    .dataframe thead th {\n",
              "        text-align: right;\n",
              "    }\n",
              "</style>\n",
              "<table border=\"1\" class=\"dataframe\">\n",
              "  <thead>\n",
              "    <tr style=\"text-align: right;\">\n",
              "      <th></th>\n",
              "      <th>index</th>\n",
              "      <th>label</th>\n",
              "    </tr>\n",
              "  </thead>\n",
              "  <tbody>\n",
              "    <tr>\n",
              "      <th>0</th>\n",
              "      <td>1</td>\n",
              "      <td>unclassified</td>\n",
              "    </tr>\n",
              "    <tr>\n",
              "      <th>1</th>\n",
              "      <td>2</td>\n",
              "      <td>donations</td>\n",
              "    </tr>\n",
              "    <tr>\n",
              "      <th>2</th>\n",
              "      <td>3</td>\n",
              "      <td>unclassified</td>\n",
              "    </tr>\n",
              "    <tr>\n",
              "      <th>3</th>\n",
              "      <td>4</td>\n",
              "      <td>donations</td>\n",
              "    </tr>\n",
              "    <tr>\n",
              "      <th>4</th>\n",
              "      <td>5</td>\n",
              "      <td>donations</td>\n",
              "    </tr>\n",
              "  </tbody>\n",
              "</table>\n",
              "</div>"
            ],
            "text/plain": [
              "   index         label\n",
              "0      1  unclassified\n",
              "1      2     donations\n",
              "2      3  unclassified\n",
              "3      4     donations\n",
              "4      5     donations"
            ]
          },
          "metadata": {
            "tags": []
          },
          "execution_count": 10
        }
      ]
    },
    {
      "cell_type": "code",
      "metadata": {
        "id": "PGcZkpwuZYrW",
        "colab_type": "code",
        "colab": {
          "base_uri": "https://localhost:8080/",
          "height": 1000
        },
        "outputId": "549f7ad6-53f9-4355-ee58-a98b72acfad4"
      },
      "source": [
        "print(data1.info())\n",
        "print(data2.info())\n",
        "print(data3.info())"
      ],
      "execution_count": 11,
      "outputs": [
        {
          "output_type": "stream",
          "text": [
            "<class 'pandas.core.frame.DataFrame'>\n",
            "RangeIndex: 96498 entries, 0 to 96497\n",
            "Data columns (total 17 columns):\n",
            " #   Column  Non-Null Count  Dtype  \n",
            "---  ------  --------------  -----  \n",
            " 0   index   96498 non-null  int64  \n",
            " 1   0       96498 non-null  float64\n",
            " 2   1       96498 non-null  float64\n",
            " 3   2       96498 non-null  float64\n",
            " 4   3       96498 non-null  float64\n",
            " 5   4       96498 non-null  float64\n",
            " 6   5       96498 non-null  float64\n",
            " 7   6       96498 non-null  float64\n",
            " 8   7       96498 non-null  float64\n",
            " 9   8       96498 non-null  float64\n",
            " 10  9       96498 non-null  float64\n",
            " 11  10      96498 non-null  float64\n",
            " 12  11      96498 non-null  float64\n",
            " 13  12      96498 non-null  float64\n",
            " 14  13      96498 non-null  float64\n",
            " 15  14      96498 non-null  float64\n",
            " 16  15      96498 non-null  float64\n",
            "dtypes: float64(16), int64(1)\n",
            "memory usage: 12.5 MB\n",
            "None\n",
            "<class 'pandas.core.frame.DataFrame'>\n",
            "RangeIndex: 96498 entries, 0 to 96497\n",
            "Data columns (total 20 columns):\n",
            " #   Column           Non-Null Count  Dtype  \n",
            "---  ------           --------------  -----  \n",
            " 0   index            96498 non-null  int64  \n",
            " 1   txsize           96498 non-null  int64  \n",
            " 2   txvirtualsize    96498 non-null  int64  \n",
            " 3   txinputs_count   96498 non-null  int64  \n",
            " 4   txoutputs_count  96498 non-null  int64  \n",
            " 5   txinput_val      96498 non-null  float64\n",
            " 6   txoutput_val     96498 non-null  float64\n",
            " 7   txfee            96498 non-null  int64  \n",
            " 8   Min_received     96498 non-null  float64\n",
            " 9   Max_received     96498 non-null  float64\n",
            " 10  Avg_received     96498 non-null  float64\n",
            " 11  Total_received   96498 non-null  float64\n",
            " 12  Stdev_received   96498 non-null  float64\n",
            " 13  Var_received     96498 non-null  float64\n",
            " 14  Min_sent         96498 non-null  float64\n",
            " 15  Max_sent         96498 non-null  float64\n",
            " 16  Avg_sent         96498 non-null  float64\n",
            " 17  Total_sent       96498 non-null  float64\n",
            " 18  Stdev_sent       96498 non-null  float64\n",
            " 19  Var_sent         96498 non-null  float64\n",
            "dtypes: float64(14), int64(6)\n",
            "memory usage: 14.7 MB\n",
            "None\n",
            "<class 'pandas.core.frame.DataFrame'>\n",
            "RangeIndex: 96498 entries, 0 to 96497\n",
            "Data columns (total 2 columns):\n",
            " #   Column  Non-Null Count  Dtype \n",
            "---  ------  --------------  ----- \n",
            " 0   index   96498 non-null  int64 \n",
            " 1   label   96498 non-null  object\n",
            "dtypes: int64(1), object(1)\n",
            "memory usage: 1.5+ MB\n",
            "None\n"
          ],
          "name": "stdout"
        }
      ]
    },
    {
      "cell_type": "code",
      "metadata": {
        "id": "m3TwbHAiZlkr",
        "colab_type": "code",
        "colab": {}
      },
      "source": [
        "X = pd.merge(data3, data1, on='index', how='inner')\n",
        "x = X.iloc[:,2:18]\n",
        "Y = X['label']"
      ],
      "execution_count": 12,
      "outputs": []
    },
    {
      "cell_type": "code",
      "metadata": {
        "id": "6qlW3iCNZ0m-",
        "colab_type": "code",
        "colab": {}
      },
      "source": [
        "from sklearn import preprocessing\n",
        "y = pd.get_dummies(Y)"
      ],
      "execution_count": 13,
      "outputs": []
    },
    {
      "cell_type": "code",
      "metadata": {
        "id": "VWtNzPsSZ8N3",
        "colab_type": "code",
        "colab": {
          "base_uri": "https://localhost:8080/",
          "height": 51
        },
        "outputId": "168c6762-f674-46c2-be98-5293c738e846"
      },
      "source": [
        "print(x.shape)\n",
        "print(y.shape)"
      ],
      "execution_count": 15,
      "outputs": [
        {
          "output_type": "stream",
          "text": [
            "(96498, 16)\n",
            "(96498, 6)\n"
          ],
          "name": "stdout"
        }
      ]
    },
    {
      "cell_type": "code",
      "metadata": {
        "id": "cofY3WxiZ7kW",
        "colab_type": "code",
        "colab": {}
      },
      "source": [
        "from sklearn.model_selection import train_test_split\n",
        "\n",
        "seed = 7\n",
        "x_train, x_test, y_train, y_test = train_test_split(x, y, test_size=0.4, random_state=seed)\n",
        "x_val, x_test, y_val, y_test = train_test_split(x_test, y_test, test_size= 0.5, random_state=seed)"
      ],
      "execution_count": 16,
      "outputs": []
    },
    {
      "cell_type": "code",
      "metadata": {
        "id": "vLt4As5xaGqF",
        "colab_type": "code",
        "colab": {
          "base_uri": "https://localhost:8080/",
          "height": 119
        },
        "outputId": "33840ee5-1730-4356-cac2-a81b21f54b10"
      },
      "source": [
        "print(x_train.shape)\n",
        "print(x_val.shape)\n",
        "print(x_test.shape)\n",
        "print(y_train.shape)\n",
        "print(y_val.shape)\n",
        "print(y_test.shape)"
      ],
      "execution_count": 17,
      "outputs": [
        {
          "output_type": "stream",
          "text": [
            "(57898, 16)\n",
            "(19300, 16)\n",
            "(19300, 16)\n",
            "(57898, 6)\n",
            "(19300, 6)\n",
            "(19300, 6)\n"
          ],
          "name": "stdout"
        }
      ]
    },
    {
      "cell_type": "code",
      "metadata": {
        "id": "P-YPXRgTaLbm",
        "colab_type": "code",
        "colab": {}
      },
      "source": [
        "from keras import models\n",
        "from keras import layers"
      ],
      "execution_count": 18,
      "outputs": []
    },
    {
      "cell_type": "code",
      "metadata": {
        "id": "xkRY1MapaPwM",
        "colab_type": "code",
        "colab": {
          "base_uri": "https://localhost:8080/",
          "height": 289
        },
        "outputId": "393ecc53-1306-4de3-8009-87fe03004604"
      },
      "source": [
        "nn = models.Sequential()\n",
        "\n",
        "nn.add(layers.Dense(512, activation = \"relu\", input_shape = (16,)))\n",
        "nn.add(layers.Dense(256, activation = \"relu\"))\n",
        "nn.add(layers.Dense(128, activation = \"tanh\"))\n",
        "nn.add(layers.Dense(6, activation = \"softmax\"))\n",
        "\n",
        "nn.compile(optimizer = \"rmsprop\", loss = 'categorical_crossentropy', metrics = ['accuracy'])\n",
        "\n",
        "nn.summary()"
      ],
      "execution_count": 19,
      "outputs": [
        {
          "output_type": "stream",
          "text": [
            "Model: \"sequential\"\n",
            "_________________________________________________________________\n",
            "Layer (type)                 Output Shape              Param #   \n",
            "=================================================================\n",
            "dense (Dense)                (None, 512)               8704      \n",
            "_________________________________________________________________\n",
            "dense_1 (Dense)              (None, 256)               131328    \n",
            "_________________________________________________________________\n",
            "dense_2 (Dense)              (None, 128)               32896     \n",
            "_________________________________________________________________\n",
            "dense_3 (Dense)              (None, 6)                 774       \n",
            "=================================================================\n",
            "Total params: 173,702\n",
            "Trainable params: 173,702\n",
            "Non-trainable params: 0\n",
            "_________________________________________________________________\n"
          ],
          "name": "stdout"
        }
      ]
    },
    {
      "cell_type": "code",
      "metadata": {
        "id": "gw_b1qWmadQV",
        "colab_type": "code",
        "colab": {
          "base_uri": "https://localhost:8080/",
          "height": 1000
        },
        "outputId": "ae74f937-8bf5-4e4d-d2c0-f0bc6f54228b"
      },
      "source": [
        "hist = nn.fit(x_train, y_train, epochs=100, batch_size=256, validation_data = (x_val, y_val))"
      ],
      "execution_count": 20,
      "outputs": [
        {
          "output_type": "stream",
          "text": [
            "Epoch 1/100\n",
            "227/227 [==============================] - 2s 11ms/step - loss: 0.7344 - accuracy: 0.7978 - val_loss: 0.6592 - val_accuracy: 0.8347\n",
            "Epoch 2/100\n",
            "227/227 [==============================] - 2s 10ms/step - loss: 0.6295 - accuracy: 0.8330 - val_loss: 0.6177 - val_accuracy: 0.8347\n",
            "Epoch 3/100\n",
            "227/227 [==============================] - 2s 10ms/step - loss: 0.6191 - accuracy: 0.8330 - val_loss: 0.6155 - val_accuracy: 0.8347\n",
            "Epoch 4/100\n",
            "227/227 [==============================] - 2s 10ms/step - loss: 0.6122 - accuracy: 0.8331 - val_loss: 0.6371 - val_accuracy: 0.8347\n",
            "Epoch 5/100\n",
            "227/227 [==============================] - 2s 10ms/step - loss: 0.6243 - accuracy: 0.8331 - val_loss: 0.6420 - val_accuracy: 0.8347\n",
            "Epoch 6/100\n",
            "227/227 [==============================] - 2s 10ms/step - loss: 0.6018 - accuracy: 0.8331 - val_loss: 0.5928 - val_accuracy: 0.8347\n",
            "Epoch 7/100\n",
            "227/227 [==============================] - 2s 10ms/step - loss: 0.5853 - accuracy: 0.8374 - val_loss: 0.5846 - val_accuracy: 0.8639\n",
            "Epoch 8/100\n",
            "227/227 [==============================] - 2s 10ms/step - loss: 0.5754 - accuracy: 0.8590 - val_loss: 0.5733 - val_accuracy: 0.8639\n",
            "Epoch 9/100\n",
            "227/227 [==============================] - 2s 10ms/step - loss: 0.5691 - accuracy: 0.8624 - val_loss: 0.5729 - val_accuracy: 0.8639\n",
            "Epoch 10/100\n",
            "227/227 [==============================] - 2s 10ms/step - loss: 0.5659 - accuracy: 0.8624 - val_loss: 0.5653 - val_accuracy: 0.8639\n",
            "Epoch 11/100\n",
            "227/227 [==============================] - 2s 10ms/step - loss: 0.5643 - accuracy: 0.8624 - val_loss: 0.5691 - val_accuracy: 0.8639\n",
            "Epoch 12/100\n",
            "227/227 [==============================] - 2s 10ms/step - loss: 0.5635 - accuracy: 0.8624 - val_loss: 0.5828 - val_accuracy: 0.8639\n",
            "Epoch 13/100\n",
            "227/227 [==============================] - 2s 10ms/step - loss: 0.5632 - accuracy: 0.8624 - val_loss: 0.5655 - val_accuracy: 0.8639\n",
            "Epoch 14/100\n",
            "227/227 [==============================] - 2s 10ms/step - loss: 0.5629 - accuracy: 0.8624 - val_loss: 0.5631 - val_accuracy: 0.8639\n",
            "Epoch 15/100\n",
            "227/227 [==============================] - 2s 10ms/step - loss: 0.5625 - accuracy: 0.8624 - val_loss: 0.5622 - val_accuracy: 0.8639\n",
            "Epoch 16/100\n",
            "227/227 [==============================] - 2s 10ms/step - loss: 0.5620 - accuracy: 0.8624 - val_loss: 0.5808 - val_accuracy: 0.8639\n",
            "Epoch 17/100\n",
            "227/227 [==============================] - 2s 10ms/step - loss: 0.5619 - accuracy: 0.8624 - val_loss: 0.5652 - val_accuracy: 0.8639\n",
            "Epoch 18/100\n",
            "227/227 [==============================] - 2s 10ms/step - loss: 0.5619 - accuracy: 0.8624 - val_loss: 0.5683 - val_accuracy: 0.8639\n",
            "Epoch 19/100\n",
            "227/227 [==============================] - 2s 10ms/step - loss: 0.5620 - accuracy: 0.8624 - val_loss: 0.5740 - val_accuracy: 0.8639\n",
            "Epoch 20/100\n",
            "227/227 [==============================] - 2s 10ms/step - loss: 0.5618 - accuracy: 0.8624 - val_loss: 0.5612 - val_accuracy: 0.8639\n",
            "Epoch 21/100\n",
            "227/227 [==============================] - 2s 10ms/step - loss: 0.5617 - accuracy: 0.8624 - val_loss: 0.5620 - val_accuracy: 0.8639\n",
            "Epoch 22/100\n",
            "227/227 [==============================] - 2s 10ms/step - loss: 0.5615 - accuracy: 0.8624 - val_loss: 0.5647 - val_accuracy: 0.8639\n",
            "Epoch 23/100\n",
            "227/227 [==============================] - 2s 10ms/step - loss: 0.5614 - accuracy: 0.8624 - val_loss: 0.5678 - val_accuracy: 0.8639\n",
            "Epoch 24/100\n",
            "227/227 [==============================] - 2s 10ms/step - loss: 0.5614 - accuracy: 0.8624 - val_loss: 0.5636 - val_accuracy: 0.8639\n",
            "Epoch 25/100\n",
            "227/227 [==============================] - 2s 10ms/step - loss: 0.5617 - accuracy: 0.8624 - val_loss: 0.5690 - val_accuracy: 0.8639\n",
            "Epoch 26/100\n",
            "227/227 [==============================] - 2s 10ms/step - loss: 0.5615 - accuracy: 0.8624 - val_loss: 0.5703 - val_accuracy: 0.8639\n",
            "Epoch 27/100\n",
            "227/227 [==============================] - 2s 10ms/step - loss: 0.5614 - accuracy: 0.8624 - val_loss: 0.5656 - val_accuracy: 0.8639\n",
            "Epoch 28/100\n",
            "227/227 [==============================] - 2s 10ms/step - loss: 0.5615 - accuracy: 0.8624 - val_loss: 0.5718 - val_accuracy: 0.8639\n",
            "Epoch 29/100\n",
            "227/227 [==============================] - 2s 10ms/step - loss: 0.5616 - accuracy: 0.8624 - val_loss: 0.5712 - val_accuracy: 0.8639\n",
            "Epoch 30/100\n",
            "227/227 [==============================] - 2s 10ms/step - loss: 0.5613 - accuracy: 0.8624 - val_loss: 0.5708 - val_accuracy: 0.8639\n",
            "Epoch 31/100\n",
            "227/227 [==============================] - 2s 10ms/step - loss: 0.5617 - accuracy: 0.8624 - val_loss: 0.5804 - val_accuracy: 0.8639\n",
            "Epoch 32/100\n",
            "227/227 [==============================] - 2s 10ms/step - loss: 0.5612 - accuracy: 0.8624 - val_loss: 0.5680 - val_accuracy: 0.8639\n",
            "Epoch 33/100\n",
            "227/227 [==============================] - 2s 10ms/step - loss: 0.5616 - accuracy: 0.8624 - val_loss: 0.5629 - val_accuracy: 0.8639\n",
            "Epoch 34/100\n",
            "227/227 [==============================] - 2s 10ms/step - loss: 0.5613 - accuracy: 0.8624 - val_loss: 0.5613 - val_accuracy: 0.8639\n",
            "Epoch 35/100\n",
            "227/227 [==============================] - 2s 10ms/step - loss: 0.5613 - accuracy: 0.8624 - val_loss: 0.5839 - val_accuracy: 0.8639\n",
            "Epoch 36/100\n",
            "227/227 [==============================] - 2s 10ms/step - loss: 0.5614 - accuracy: 0.8624 - val_loss: 0.5624 - val_accuracy: 0.8639\n",
            "Epoch 37/100\n",
            "227/227 [==============================] - 2s 10ms/step - loss: 0.5615 - accuracy: 0.8624 - val_loss: 0.5695 - val_accuracy: 0.8639\n",
            "Epoch 38/100\n",
            "227/227 [==============================] - 2s 10ms/step - loss: 0.5611 - accuracy: 0.8624 - val_loss: 0.5605 - val_accuracy: 0.8639\n",
            "Epoch 39/100\n",
            "227/227 [==============================] - 2s 10ms/step - loss: 0.5613 - accuracy: 0.8624 - val_loss: 0.5620 - val_accuracy: 0.8639\n",
            "Epoch 40/100\n",
            "227/227 [==============================] - 2s 10ms/step - loss: 0.5613 - accuracy: 0.8624 - val_loss: 0.5675 - val_accuracy: 0.8639\n",
            "Epoch 41/100\n",
            "227/227 [==============================] - 2s 10ms/step - loss: 0.5612 - accuracy: 0.8624 - val_loss: 0.5704 - val_accuracy: 0.8639\n",
            "Epoch 42/100\n",
            "227/227 [==============================] - 2s 10ms/step - loss: 0.5612 - accuracy: 0.8624 - val_loss: 0.5666 - val_accuracy: 0.8639\n",
            "Epoch 43/100\n",
            "227/227 [==============================] - 2s 10ms/step - loss: 0.5612 - accuracy: 0.8624 - val_loss: 0.5649 - val_accuracy: 0.8639\n",
            "Epoch 44/100\n",
            "227/227 [==============================] - 2s 10ms/step - loss: 0.5617 - accuracy: 0.8624 - val_loss: 0.5657 - val_accuracy: 0.8639\n",
            "Epoch 45/100\n",
            "227/227 [==============================] - 2s 10ms/step - loss: 0.5611 - accuracy: 0.8624 - val_loss: 0.5664 - val_accuracy: 0.8639\n",
            "Epoch 46/100\n",
            "227/227 [==============================] - 2s 10ms/step - loss: 0.5613 - accuracy: 0.8624 - val_loss: 0.5599 - val_accuracy: 0.8639\n",
            "Epoch 47/100\n",
            "227/227 [==============================] - 2s 10ms/step - loss: 0.5608 - accuracy: 0.8624 - val_loss: 0.5659 - val_accuracy: 0.8639\n",
            "Epoch 48/100\n",
            "227/227 [==============================] - 2s 10ms/step - loss: 0.5612 - accuracy: 0.8624 - val_loss: 0.5668 - val_accuracy: 0.8639\n",
            "Epoch 49/100\n",
            "227/227 [==============================] - 2s 10ms/step - loss: 0.5611 - accuracy: 0.8624 - val_loss: 0.5696 - val_accuracy: 0.8639\n",
            "Epoch 50/100\n",
            "227/227 [==============================] - 2s 10ms/step - loss: 0.5612 - accuracy: 0.8624 - val_loss: 0.5939 - val_accuracy: 0.8639\n",
            "Epoch 51/100\n",
            "227/227 [==============================] - 2s 10ms/step - loss: 0.5611 - accuracy: 0.8624 - val_loss: 0.6071 - val_accuracy: 0.8639\n",
            "Epoch 52/100\n",
            "227/227 [==============================] - 2s 10ms/step - loss: 0.5613 - accuracy: 0.8624 - val_loss: 0.5645 - val_accuracy: 0.8639\n",
            "Epoch 53/100\n",
            "227/227 [==============================] - 2s 10ms/step - loss: 0.5614 - accuracy: 0.8624 - val_loss: 0.5620 - val_accuracy: 0.8639\n",
            "Epoch 54/100\n",
            "227/227 [==============================] - 2s 10ms/step - loss: 0.5609 - accuracy: 0.8624 - val_loss: 0.5634 - val_accuracy: 0.8639\n",
            "Epoch 55/100\n",
            "227/227 [==============================] - 2s 10ms/step - loss: 0.5615 - accuracy: 0.8624 - val_loss: 0.5713 - val_accuracy: 0.8639\n",
            "Epoch 56/100\n",
            "227/227 [==============================] - 2s 10ms/step - loss: 0.5609 - accuracy: 0.8624 - val_loss: 0.5687 - val_accuracy: 0.8639\n",
            "Epoch 57/100\n",
            "227/227 [==============================] - 2s 10ms/step - loss: 0.5611 - accuracy: 0.8624 - val_loss: 0.5652 - val_accuracy: 0.8639\n",
            "Epoch 58/100\n",
            "227/227 [==============================] - 2s 10ms/step - loss: 0.5612 - accuracy: 0.8624 - val_loss: 0.5854 - val_accuracy: 0.8639\n",
            "Epoch 59/100\n",
            "227/227 [==============================] - 2s 10ms/step - loss: 0.5607 - accuracy: 0.8624 - val_loss: 0.5623 - val_accuracy: 0.8639\n",
            "Epoch 60/100\n",
            "227/227 [==============================] - 2s 10ms/step - loss: 0.5615 - accuracy: 0.8624 - val_loss: 0.5605 - val_accuracy: 0.8639\n",
            "Epoch 61/100\n",
            "227/227 [==============================] - 2s 10ms/step - loss: 0.5608 - accuracy: 0.8624 - val_loss: 0.5686 - val_accuracy: 0.8639\n",
            "Epoch 62/100\n",
            "227/227 [==============================] - 2s 10ms/step - loss: 0.5614 - accuracy: 0.8624 - val_loss: 0.5768 - val_accuracy: 0.8639\n",
            "Epoch 63/100\n",
            "227/227 [==============================] - 2s 10ms/step - loss: 0.5613 - accuracy: 0.8624 - val_loss: 0.5656 - val_accuracy: 0.8639\n",
            "Epoch 64/100\n",
            "227/227 [==============================] - 2s 10ms/step - loss: 0.5612 - accuracy: 0.8624 - val_loss: 0.5647 - val_accuracy: 0.8639\n",
            "Epoch 65/100\n",
            "227/227 [==============================] - 2s 10ms/step - loss: 0.5613 - accuracy: 0.8624 - val_loss: 0.5616 - val_accuracy: 0.8639\n",
            "Epoch 66/100\n",
            "227/227 [==============================] - 2s 10ms/step - loss: 0.5614 - accuracy: 0.8624 - val_loss: 0.5602 - val_accuracy: 0.8639\n",
            "Epoch 67/100\n",
            "227/227 [==============================] - 2s 10ms/step - loss: 0.5610 - accuracy: 0.8624 - val_loss: 0.5801 - val_accuracy: 0.8639\n",
            "Epoch 68/100\n",
            "227/227 [==============================] - 2s 10ms/step - loss: 0.5616 - accuracy: 0.8624 - val_loss: 0.5612 - val_accuracy: 0.8639\n",
            "Epoch 69/100\n",
            "227/227 [==============================] - 2s 10ms/step - loss: 0.5608 - accuracy: 0.8624 - val_loss: 0.5658 - val_accuracy: 0.8639\n",
            "Epoch 70/100\n",
            "227/227 [==============================] - 2s 10ms/step - loss: 0.5612 - accuracy: 0.8624 - val_loss: 0.5652 - val_accuracy: 0.8639\n",
            "Epoch 71/100\n",
            "227/227 [==============================] - 2s 11ms/step - loss: 0.5609 - accuracy: 0.8624 - val_loss: 0.5627 - val_accuracy: 0.8639\n",
            "Epoch 72/100\n",
            "227/227 [==============================] - 2s 11ms/step - loss: 0.5612 - accuracy: 0.8624 - val_loss: 0.5618 - val_accuracy: 0.8639\n",
            "Epoch 73/100\n",
            "227/227 [==============================] - 2s 11ms/step - loss: 0.5611 - accuracy: 0.8624 - val_loss: 0.5662 - val_accuracy: 0.8639\n",
            "Epoch 74/100\n",
            "227/227 [==============================] - 2s 11ms/step - loss: 0.5612 - accuracy: 0.8624 - val_loss: 0.5607 - val_accuracy: 0.8639\n",
            "Epoch 75/100\n",
            "227/227 [==============================] - 2s 11ms/step - loss: 0.5611 - accuracy: 0.8624 - val_loss: 0.5607 - val_accuracy: 0.8639\n",
            "Epoch 76/100\n",
            "227/227 [==============================] - 2s 11ms/step - loss: 0.5615 - accuracy: 0.8624 - val_loss: 0.5615 - val_accuracy: 0.8639\n",
            "Epoch 77/100\n",
            "227/227 [==============================] - 2s 10ms/step - loss: 0.5610 - accuracy: 0.8624 - val_loss: 0.5679 - val_accuracy: 0.8639\n",
            "Epoch 78/100\n",
            "227/227 [==============================] - 2s 10ms/step - loss: 0.5612 - accuracy: 0.8624 - val_loss: 0.5738 - val_accuracy: 0.8639\n",
            "Epoch 79/100\n",
            "227/227 [==============================] - 2s 10ms/step - loss: 0.5611 - accuracy: 0.8624 - val_loss: 0.5751 - val_accuracy: 0.8639\n",
            "Epoch 80/100\n",
            "227/227 [==============================] - 2s 10ms/step - loss: 0.5611 - accuracy: 0.8624 - val_loss: 0.5617 - val_accuracy: 0.8639\n",
            "Epoch 81/100\n",
            "227/227 [==============================] - 2s 10ms/step - loss: 0.5611 - accuracy: 0.8624 - val_loss: 0.5769 - val_accuracy: 0.8639\n",
            "Epoch 82/100\n",
            "227/227 [==============================] - 2s 10ms/step - loss: 0.5608 - accuracy: 0.8624 - val_loss: 0.5672 - val_accuracy: 0.8639\n",
            "Epoch 83/100\n",
            "227/227 [==============================] - 2s 10ms/step - loss: 0.5615 - accuracy: 0.8624 - val_loss: 0.5689 - val_accuracy: 0.8639\n",
            "Epoch 84/100\n",
            "227/227 [==============================] - 2s 10ms/step - loss: 0.5611 - accuracy: 0.8624 - val_loss: 0.5798 - val_accuracy: 0.8639\n",
            "Epoch 85/100\n",
            "227/227 [==============================] - 2s 10ms/step - loss: 0.5610 - accuracy: 0.8624 - val_loss: 0.5633 - val_accuracy: 0.8639\n",
            "Epoch 86/100\n",
            "227/227 [==============================] - 2s 10ms/step - loss: 0.5611 - accuracy: 0.8624 - val_loss: 0.5671 - val_accuracy: 0.8639\n",
            "Epoch 87/100\n",
            "227/227 [==============================] - 2s 10ms/step - loss: 0.5613 - accuracy: 0.8624 - val_loss: 0.5630 - val_accuracy: 0.8639\n",
            "Epoch 88/100\n",
            "227/227 [==============================] - 2s 10ms/step - loss: 0.5609 - accuracy: 0.8624 - val_loss: 0.5638 - val_accuracy: 0.8639\n",
            "Epoch 89/100\n",
            "227/227 [==============================] - 2s 10ms/step - loss: 0.5612 - accuracy: 0.8624 - val_loss: 0.5636 - val_accuracy: 0.8639\n",
            "Epoch 90/100\n",
            "227/227 [==============================] - 2s 10ms/step - loss: 0.5617 - accuracy: 0.8624 - val_loss: 0.5744 - val_accuracy: 0.8639\n",
            "Epoch 91/100\n",
            "227/227 [==============================] - 2s 10ms/step - loss: 0.5615 - accuracy: 0.8624 - val_loss: 0.5657 - val_accuracy: 0.8639\n",
            "Epoch 92/100\n",
            "227/227 [==============================] - 2s 10ms/step - loss: 0.5612 - accuracy: 0.8624 - val_loss: 0.5624 - val_accuracy: 0.8639\n",
            "Epoch 93/100\n",
            "227/227 [==============================] - 2s 10ms/step - loss: 0.5607 - accuracy: 0.8624 - val_loss: 0.5688 - val_accuracy: 0.8639\n",
            "Epoch 94/100\n",
            "227/227 [==============================] - 2s 10ms/step - loss: 0.5612 - accuracy: 0.8624 - val_loss: 0.5619 - val_accuracy: 0.8639\n",
            "Epoch 95/100\n",
            "227/227 [==============================] - 2s 10ms/step - loss: 0.5609 - accuracy: 0.8624 - val_loss: 0.5761 - val_accuracy: 0.8639\n",
            "Epoch 96/100\n",
            "227/227 [==============================] - 2s 10ms/step - loss: 0.5613 - accuracy: 0.8624 - val_loss: 0.5697 - val_accuracy: 0.8639\n",
            "Epoch 97/100\n",
            "227/227 [==============================] - 2s 10ms/step - loss: 0.5611 - accuracy: 0.8624 - val_loss: 0.5610 - val_accuracy: 0.8639\n",
            "Epoch 98/100\n",
            "227/227 [==============================] - 2s 10ms/step - loss: 0.5612 - accuracy: 0.8624 - val_loss: 0.5679 - val_accuracy: 0.8639\n",
            "Epoch 99/100\n",
            "227/227 [==============================] - 2s 10ms/step - loss: 0.5613 - accuracy: 0.8624 - val_loss: 0.5671 - val_accuracy: 0.8639\n",
            "Epoch 100/100\n",
            "227/227 [==============================] - 2s 10ms/step - loss: 0.5611 - accuracy: 0.8624 - val_loss: 0.5630 - val_accuracy: 0.8639\n"
          ],
          "name": "stdout"
        }
      ]
    },
    {
      "cell_type": "code",
      "metadata": {
        "id": "m6PFNYsoakPJ",
        "colab_type": "code",
        "colab": {
          "base_uri": "https://localhost:8080/",
          "height": 68
        },
        "outputId": "6a3522a4-5de8-42df-fde3-55ff0131ec0e"
      },
      "source": [
        "train_loss, train_accuracy = nn.evaluate(x_train, y_train)\n",
        "val_loss, val_accuracy = nn.evaluate(x_val, y_val)\n",
        "test_loss, test_accuracy = nn.evaluate(x_test, y_test)"
      ],
      "execution_count": 21,
      "outputs": [
        {
          "output_type": "stream",
          "text": [
            "1810/1810 [==============================] - 2s 1ms/step - loss: 0.5626 - accuracy: 0.8624\n",
            "604/604 [==============================] - 1s 1ms/step - loss: 0.5630 - accuracy: 0.8639\n",
            "604/604 [==============================] - 1s 1ms/step - loss: 0.5612 - accuracy: 0.8632\n"
          ],
          "name": "stdout"
        }
      ]
    },
    {
      "cell_type": "code",
      "metadata": {
        "id": "s3TkbeQPa4pp",
        "colab_type": "code",
        "colab": {
          "base_uri": "https://localhost:8080/",
          "height": 68
        },
        "outputId": "c7d6bcd8-4d94-4b51-ba7c-0eb56e6259bd"
      },
      "source": [
        "print('Training Accuracy : ', train_accuracy*100, \"%\")\n",
        "print('Validate Accuracy : ', val_accuracy*100, \"%\")\n",
        "print('Test Accuracy : ', test_accuracy*100, \"%\")"
      ],
      "execution_count": 22,
      "outputs": [
        {
          "output_type": "stream",
          "text": [
            "Training Accuracy :  86.2413227558136 %\n",
            "Validate Accuracy :  86.38859987258911 %\n",
            "Test Accuracy :  86.31606101989746 %\n"
          ],
          "name": "stdout"
        }
      ]
    },
    {
      "cell_type": "code",
      "metadata": {
        "id": "2OIl9gO4blQq",
        "colab_type": "code",
        "colab": {}
      },
      "source": [
        "loss_train, loss_val, epochs = hist.history['loss'], hist.history['val_loss'], range(1,101)"
      ],
      "execution_count": 23,
      "outputs": []
    },
    {
      "cell_type": "code",
      "metadata": {
        "id": "lxeUoEtEa6gW",
        "colab_type": "code",
        "colab": {
          "base_uri": "https://localhost:8080/",
          "height": 295
        },
        "outputId": "55bbe88b-8093-4283-a601-298fb985ab97"
      },
      "source": [
        "plt.plot(epochs, loss_train, 'g', label='Training loss')\n",
        "plt.plot(epochs, loss_val, 'b', label='validation loss')\n",
        "plt.title('Training and Validation loss')\n",
        "plt.xlabel('Epochs')\n",
        "plt.ylabel('Loss')\n",
        "plt.legend()\n",
        "plt.show()"
      ],
      "execution_count": 24,
      "outputs": [
        {
          "output_type": "display_data",
          "data": {
            "image/png": "[encoded data removed]",
            "text/plain": [
              "<Figure size 432x288 with 1 Axes>"
            ]
          },
          "metadata": {
            "tags": [],
            "needs_background": "light"
          }
        }
      ]
    },
    {
      "cell_type": "code",
      "metadata": {
        "id": "zr4BmqLebvvn",
        "colab_type": "code",
        "colab": {}
      },
      "source": [
        "loss_train, loss_val, epochs = hist.history['accuracy'], hist.history['val_accuracy'], range(1,101)"
      ],
      "execution_count": 25,
      "outputs": []
    },
    {
      "cell_type": "code",
      "metadata": {
        "id": "mKm7P9GabAM7",
        "colab_type": "code",
        "colab": {
          "base_uri": "https://localhost:8080/",
          "height": 295
        },
        "outputId": "5020c253-2acc-4691-e423-8691c2968b30"
      },
      "source": [
        "plt.plot(epochs, loss_train, 'g', label='Training accuracy')\n",
        "plt.plot(epochs, loss_val, 'b', label='validation accuracy')\n",
        "plt.title('Training and Validation accuracy')\n",
        "plt.xlabel('Epochs')\n",
        "plt.ylabel('Accuracy')\n",
        "plt.legend()\n",
        "plt.show()"
      ],
      "execution_count": 26,
      "outputs": [
        {
          "output_type": "display_data",
          "data": {
            "image/png": "[encoded data removed]",
            "text/plain": [
              "<Figure size 432x288 with 1 Axes>"
            ]
          },
          "metadata": {
            "tags": [],
            "needs_background": "light"
          }
        }
      ]
    }
  ]
}